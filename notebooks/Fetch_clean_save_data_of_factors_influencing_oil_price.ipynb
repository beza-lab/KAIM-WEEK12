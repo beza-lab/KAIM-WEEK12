{
 "cells": [
  {
   "cell_type": "code",
   "execution_count": 2,
   "metadata": {},
   "outputs": [
    {
     "name": "stdout",
     "output_type": "stream",
     "text": [
      "            GDP_Growth  Inflation_Rate  Unemployment_Rate  \\\n",
      "DATE                                                        \n",
      "1987-01-01    4722.156           111.4                6.6   \n",
      "1987-02-01         NaN           111.8                6.6   \n",
      "1987-03-01         NaN           112.2                6.6   \n",
      "1987-04-01    4806.160           112.7                6.3   \n",
      "1987-05-01         NaN           113.0                6.3   \n",
      "\n",
      "            USD_EUR_Exchange_Rate  \n",
      "DATE                               \n",
      "1987-01-01                    NaN  \n",
      "1987-02-01                    NaN  \n",
      "1987-03-01                    NaN  \n",
      "1987-04-01                    NaN  \n",
      "1987-05-01                    NaN  \n",
      "<class 'pandas.core.frame.DataFrame'>\n",
      "DatetimeIndex: 7059 entries, 1987-01-01 to 2025-02-28\n",
      "Data columns (total 4 columns):\n",
      " #   Column                 Non-Null Count  Dtype  \n",
      "---  ------                 --------------  -----  \n",
      " 0   GDP_Growth             152 non-null    float64\n",
      " 1   Inflation_Rate         457 non-null    float64\n",
      " 2   Unemployment_Rate      458 non-null    float64\n",
      " 3   USD_EUR_Exchange_Rate  6560 non-null   float64\n",
      "dtypes: float64(4)\n",
      "memory usage: 275.7 KB\n",
      "None\n",
      "Economic Indicators data saved successfully.\n"
     ]
    }
   ],
   "source": [
    "import pandas as pd\n",
    "import pandas_datareader.data as web\n",
    "import datetime\n",
    "\n",
    "# Define the start and end dates\n",
    "start = datetime.datetime(1987, 1, 1)\n",
    "end = datetime.datetime(2025, 3, 31)\n",
    "\n",
    "# Fetch Economic Indicators data from FRED\n",
    "gdp = web.DataReader('GDP', 'fred', start, end)  # GDP\n",
    "inflation = web.DataReader('CPIAUCSL', 'fred', start, end)  # Consumer Price Index for All Urban Consumers: All Items in U.S. City Average\n",
    "unemployment = web.DataReader('UNRATE', 'fred', start, end)  # Unemployment Rate\n",
    "exchange_rate = web.DataReader('DEXUSEU', 'fred', start, end)  # U.S. / Euro Foreign Exchange Rate\n",
    "\n",
    "# Rename columns for clarity\n",
    "gdp.rename(columns={'GDP': 'GDP_Growth'}, inplace=True)\n",
    "inflation.rename(columns={'CPIAUCSL': 'Inflation_Rate'}, inplace=True)\n",
    "unemployment.rename(columns={'UNRATE': 'Unemployment_Rate'}, inplace=True)\n",
    "exchange_rate.rename(columns={'DEXUSEU': 'USD_EUR_Exchange_Rate'}, inplace=True)\n",
    "\n",
    "# Merge all data into a single DataFrame\n",
    "economic_indicators_df = gdp.merge(inflation, left_index=True, right_index=True, how='outer')\n",
    "economic_indicators_df = economic_indicators_df.merge(unemployment, left_index=True, right_index=True, how='outer')\n",
    "economic_indicators_df = economic_indicators_df.merge(exchange_rate, left_index=True, right_index=True, how='outer')\n",
    "\n",
    "# Save the Economic Indicators data to a CSV file\n",
    "economic_indicators_df.to_csv('Economic_Indicators.csv')\n",
    "\n",
    "# Inspect the merged data\n",
    "print(economic_indicators_df.head())\n",
    "print(economic_indicators_df.info())\n",
    "print(\"Economic Indicators data saved successfully.\")\n"
   ]
  },
  {
   "cell_type": "code",
   "execution_count": 7,
   "metadata": {},
   "outputs": [
    {
     "name": "stdout",
     "output_type": "stream",
     "text": [
      "Initial Data Information:\n",
      "<class 'pandas.core.frame.DataFrame'>\n",
      "RangeIndex: 7059 entries, 0 to 7058\n",
      "Data columns (total 5 columns):\n",
      " #   Column                 Non-Null Count  Dtype  \n",
      "---  ------                 --------------  -----  \n",
      " 0   Date                   7059 non-null   object \n",
      " 1   GDP_Growth             152 non-null    float64\n",
      " 2   Inflation_Rate         457 non-null    float64\n",
      " 3   Unemployment_Rate      458 non-null    float64\n",
      " 4   USD_EUR_Exchange_Rate  6560 non-null   float64\n",
      "dtypes: float64(4), object(1)\n",
      "memory usage: 275.9+ KB\n",
      "None\n"
     ]
    },
    {
     "name": "stderr",
     "output_type": "stream",
     "text": [
      "C:\\Users\\Robel\\AppData\\Local\\Temp\\ipykernel_8872\\1840076075.py:19: FutureWarning: Series.fillna with 'method' is deprecated and will raise in a future version. Use obj.ffill() or obj.bfill() instead.\n",
      "  economic_indicators_df['USD_EUR_Exchange_Rate'] = economic_indicators_df['USD_EUR_Exchange_Rate'].fillna(method='ffill').fillna(method='bfill')\n"
     ]
    },
    {
     "name": "stdout",
     "output_type": "stream",
     "text": [
      "\n",
      "Cleaned data saved successfully!\n"
     ]
    }
   ],
   "source": [
    "import pandas as pd\n",
    "\n",
    "# Load the Economic Indicators data\n",
    "economic_indicators_df = pd.read_csv('D:/KAIM/Week 12/KAIM WEEK12/Economic_Indicators.csv')\n",
    "\n",
    "# Display initial information about the data\n",
    "print(\"Initial Data Information:\")\n",
    "print(economic_indicators_df.info())\n",
    "\n",
    "# Convert 'Date' to datetime format\n",
    "economic_indicators_df['Date'] = pd.to_datetime(economic_indicators_df['Date'])\n",
    "\n",
    "# Interpolate missing values for numeric columns\n",
    "economic_indicators_df['GDP_Growth'] = economic_indicators_df['GDP_Growth'].interpolate(method='linear')\n",
    "economic_indicators_df['Inflation_Rate'] = economic_indicators_df['Inflation_Rate'].interpolate(method='linear')\n",
    "economic_indicators_df['Unemployment_Rate'] = economic_indicators_df['Unemployment_Rate'].interpolate(method='linear')\n",
    "\n",
    "# Fill missing values for exchange rate with forward and backward fill\n",
    "economic_indicators_df['USD_EUR_Exchange_Rate'] = economic_indicators_df['USD_EUR_Exchange_Rate'].fillna(method='ffill').fillna(method='bfill')\n",
    "\n",
    "# Remove duplicate rows\n",
    "economic_indicators_df.drop_duplicates(inplace=True)\n",
    "\n",
    "# Save cleaned data to a new file\n",
    "economic_indicators_df.to_csv('Cleaned_Economic_Indicators.csv', index=False)\n",
    "\n",
    "print(\"\\nCleaned data saved successfully!\")\n"
   ]
  }
 ],
 "metadata": {
  "kernelspec": {
   "display_name": ".ebcli-virtual-env",
   "language": "python",
   "name": "python3"
  },
  "language_info": {
   "codemirror_mode": {
    "name": "ipython",
    "version": 3
   },
   "file_extension": ".py",
   "mimetype": "text/x-python",
   "name": "python",
   "nbconvert_exporter": "python",
   "pygments_lexer": "ipython3",
   "version": "3.11.9"
  }
 },
 "nbformat": 4,
 "nbformat_minor": 2
}
