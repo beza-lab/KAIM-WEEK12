{
 "cells": [
  {
   "cell_type": "code",
   "execution_count": 1,
   "metadata": {},
   "outputs": [
    {
     "name": "stdout",
     "output_type": "stream",
     "text": [
      "Missing values after imputation:\n",
      "Date                     0\n",
      "Price                    0\n",
      "GDP_Growth               0\n",
      "Inflation_Rate           0\n",
      "Unemployment_Rate        0\n",
      "USD_EUR_Exchange_Rate    0\n",
      "dtype: int64\n"
     ]
    }
   ],
   "source": [
    "from sklearn.impute import SimpleImputer\n",
    "import pandas as pd\n",
    "\n",
    "# Load the merged dataset\n",
    "data = pd.read_csv('D:/KAIM/Week 12/KAIM WEEK12/Merged_Economic_Brent_Data.csv')\n",
    "\n",
    "# Define the imputer (e.g., fill NaNs with the mean of each column)\n",
    "imputer = SimpleImputer(strategy='mean')  # You can change 'mean' to 'median' or 'most_frequent'\n",
    "\n",
    "# Fit and transform the dataset (excluding non-numeric columns)\n",
    "numeric_columns = data.select_dtypes(include=['float64', 'int64']).columns  # Select numeric columns only\n",
    "data[numeric_columns] = imputer.fit_transform(data[numeric_columns])\n",
    "\n",
    "# Check if missing values are handled\n",
    "print(\"Missing values after imputation:\")\n",
    "print(data.isnull().sum())\n"
   ]
  },
  {
   "cell_type": "code",
   "execution_count": 2,
   "metadata": {},
   "outputs": [
    {
     "name": "stderr",
     "output_type": "stream",
     "text": [
      "C:\\Users\\Robel\\AppData\\Local\\Temp\\ipykernel_9876\\267667152.py:2: FutureWarning: A value is trying to be set on a copy of a DataFrame or Series through chained assignment using an inplace method.\n",
      "The behavior will change in pandas 3.0. This inplace method will never work because the intermediate object on which we are setting values always behaves as a copy.\n",
      "\n",
      "For example, when doing 'df[col].method(value, inplace=True)', try using 'df.method({col: value}, inplace=True)' or df[col] = df[col].method(value) instead, to perform the operation inplace on the original object.\n",
      "\n",
      "\n",
      "  data['GDP_Growth'].fillna(data['GDP_Growth'].mean(), inplace=True)\n",
      "C:\\Users\\Robel\\AppData\\Local\\Temp\\ipykernel_9876\\267667152.py:5: FutureWarning: A value is trying to be set on a copy of a DataFrame or Series through chained assignment using an inplace method.\n",
      "The behavior will change in pandas 3.0. This inplace method will never work because the intermediate object on which we are setting values always behaves as a copy.\n",
      "\n",
      "For example, when doing 'df[col].method(value, inplace=True)', try using 'df.method({col: value}, inplace=True)' or df[col] = df[col].method(value) instead, to perform the operation inplace on the original object.\n",
      "\n",
      "\n",
      "  data['Inflation_Rate'].fillna(data['Inflation_Rate'].median(), inplace=True)\n",
      "C:\\Users\\Robel\\AppData\\Local\\Temp\\ipykernel_9876\\267667152.py:8: FutureWarning: A value is trying to be set on a copy of a DataFrame or Series through chained assignment using an inplace method.\n",
      "The behavior will change in pandas 3.0. This inplace method will never work because the intermediate object on which we are setting values always behaves as a copy.\n",
      "\n",
      "For example, when doing 'df[col].method(value, inplace=True)', try using 'df.method({col: value}, inplace=True)' or df[col] = df[col].method(value) instead, to perform the operation inplace on the original object.\n",
      "\n",
      "\n",
      "  data['Unemployment_Rate'].fillna(data['Unemployment_Rate'].mode()[0], inplace=True)\n"
     ]
    },
    {
     "name": "stdout",
     "output_type": "stream",
     "text": [
      "Missing values after column-wise imputation:\n",
      "Date                     0\n",
      "Price                    0\n",
      "GDP_Growth               0\n",
      "Inflation_Rate           0\n",
      "Unemployment_Rate        0\n",
      "USD_EUR_Exchange_Rate    0\n",
      "dtype: int64\n"
     ]
    }
   ],
   "source": [
    "# Impute GDP_Growth with mean\n",
    "data['GDP_Growth'].fillna(data['GDP_Growth'].mean(), inplace=True)\n",
    "\n",
    "# Impute Inflation_Rate with median\n",
    "data['Inflation_Rate'].fillna(data['Inflation_Rate'].median(), inplace=True)\n",
    "\n",
    "# Impute Unemployment_Rate with mode\n",
    "data['Unemployment_Rate'].fillna(data['Unemployment_Rate'].mode()[0], inplace=True)\n",
    "\n",
    "# Check if missing values are handled\n",
    "print(\"Missing values after column-wise imputation:\")\n",
    "print(data.isnull().sum())\n"
   ]
  },
  {
   "cell_type": "code",
   "execution_count": 3,
   "metadata": {},
   "outputs": [
    {
     "name": "stdout",
     "output_type": "stream",
     "text": [
      "Imputed dataset saved successfully!\n"
     ]
    }
   ],
   "source": [
    "# Save the imputed dataset to a new file\n",
    "data.to_csv('D:/KAIM/Week 12/KAIM WEEK12/Imputed_Economic_Brent_Data.csv', index=False)\n",
    "print(\"Imputed dataset saved successfully!\")\n"
   ]
  },
  {
   "cell_type": "code",
   "execution_count": 4,
   "metadata": {},
   "outputs": [],
   "source": [
    "import pandas as pd\n",
    "from sklearn.model_selection import train_test_split\n",
    "\n",
    "# Load the data\n",
    "data = pd.read_csv('D:/KAIM/Week 12/KAIM WEEK12/Imputed_Economic_Brent_Data.csv')\n",
    "\n",
    "# Features (independent variables) and target (dependent variable)\n",
    "X = data[['GDP_Growth', 'Inflation_Rate', 'Unemployment_Rate', 'USD_EUR_Exchange_Rate']]  # Replace with relevant features\n",
    "y = data['Price']  # Target variable (Brent oil prices)\n",
    "\n",
    "# Split the data into training and testing sets\n",
    "X_train, X_test, y_train, y_test = train_test_split(X, y, test_size=0.2, random_state=42)\n"
   ]
  },
  {
   "cell_type": "code",
   "execution_count": 5,
   "metadata": {},
   "outputs": [
    {
     "name": "stderr",
     "output_type": "stream",
     "text": [
      "c:\\Users\\Robel\\.ebcli-virtual-env\\Lib\\site-packages\\statsmodels\\tsa\\base\\tsa_model.py:473: ValueWarning: A date index has been provided, but it has no associated frequency information and so will be ignored when e.g. forecasting.\n",
      "  self._init_dates(dates, freq)\n",
      "c:\\Users\\Robel\\.ebcli-virtual-env\\Lib\\site-packages\\statsmodels\\tsa\\base\\tsa_model.py:473: ValueWarning: A date index has been provided, but it has no associated frequency information and so will be ignored when e.g. forecasting.\n",
      "  self._init_dates(dates, freq)\n",
      "c:\\Users\\Robel\\.ebcli-virtual-env\\Lib\\site-packages\\statsmodels\\tsa\\base\\tsa_model.py:473: ValueWarning: A date index has been provided, but it has no associated frequency information and so will be ignored when e.g. forecasting.\n",
      "  self._init_dates(dates, freq)\n"
     ]
    },
    {
     "name": "stdout",
     "output_type": "stream",
     "text": [
      "ARIMA Forecast: 6724    74.638145\n",
      "6725    74.618738\n",
      "6726    74.662504\n",
      "6727    74.664369\n",
      "6728    74.659828\n",
      "6729    74.658058\n",
      "6730    74.659085\n",
      "6731    74.659404\n",
      "6732    74.659310\n",
      "6733    74.659225\n",
      "Name: predicted_mean, dtype: float64\n"
     ]
    },
    {
     "name": "stderr",
     "output_type": "stream",
     "text": [
      "c:\\Users\\Robel\\.ebcli-virtual-env\\Lib\\site-packages\\statsmodels\\tsa\\base\\tsa_model.py:837: ValueWarning: No supported index is available. Prediction results will be given with an integer index beginning at `start`.\n",
      "  return get_prediction_index(\n",
      "c:\\Users\\Robel\\.ebcli-virtual-env\\Lib\\site-packages\\statsmodels\\tsa\\base\\tsa_model.py:837: FutureWarning: No supported index is available. In the next version, calling this method in a model without a supported index will result in an exception.\n",
      "  return get_prediction_index(\n"
     ]
    }
   ],
   "source": [
    "from statsmodels.tsa.arima.model import ARIMA\n",
    "\n",
    "# Prepare time series data (use 'Date' as index)\n",
    "data['Date'] = pd.to_datetime(data['Date'])\n",
    "data.set_index('Date', inplace=True)\n",
    "\n",
    "# Fit an ARIMA model (adjust p, d, q for better performance)\n",
    "arima_model = ARIMA(data['Price'], order=(5, 1, 0))  # Example: (p=5, d=1, q=0)\n",
    "arima_model_fit = arima_model.fit()\n",
    "\n",
    "# Forecast future prices\n",
    "forecast = arima_model_fit.forecast(steps=10)  # Forecast the next 10 time points\n",
    "print(\"ARIMA Forecast:\", forecast)\n"
   ]
  },
  {
   "cell_type": "code",
   "execution_count": 8,
   "metadata": {},
   "outputs": [
    {
     "name": "stderr",
     "output_type": "stream",
     "text": [
      "c:\\Users\\Robel\\.ebcli-virtual-env\\Lib\\site-packages\\statsmodels\\tsa\\base\\tsa_model.py:473: ValueWarning: A date index has been provided, but it has no associated frequency information and so will be ignored when e.g. forecasting.\n",
      "  self._init_dates(dates, freq)\n"
     ]
    },
    {
     "name": "stdout",
     "output_type": "stream",
     "text": [
      "  Summary of Regression Results   \n",
      "==================================\n",
      "Model:                         VAR\n",
      "Method:                        OLS\n",
      "Date:           Mon, 10, Mar, 2025\n",
      "Time:                     19:36:41\n",
      "--------------------------------------------------------------------\n",
      "No. of Equations:         4.00000    BIC:                    15.8187\n",
      "Nobs:                     6719.00    HQIC:                   15.7630\n",
      "Log likelihood:          -90908.3    FPE:                6.80771e+06\n",
      "AIC:                      15.7336    Det(Omega_mle):     6.72326e+06\n",
      "--------------------------------------------------------------------\n",
      "Results for equation Price\n",
      "=======================================================================================\n",
      "                          coefficient       std. error           t-stat            prob\n",
      "---------------------------------------------------------------------------------------\n",
      "const                       -3.115366         1.042157           -2.989           0.003\n",
      "L1.Price                     1.028952         0.012219           84.211           0.000\n",
      "L1.GDP_Growth                0.000030         0.000033            0.912           0.362\n",
      "L1.Inflation_Rate            0.003542         0.002274            1.557           0.119\n",
      "L1.Unemployment_Rate         0.081664         0.049869            1.638           0.102\n",
      "L2.Price                    -0.074784         0.017531           -4.266           0.000\n",
      "L2.GDP_Growth                0.000072         0.000033            2.211           0.027\n",
      "L2.Inflation_Rate           -0.003636         0.002273           -1.600           0.110\n",
      "L2.Unemployment_Rate         0.128483         0.049897            2.575           0.010\n",
      "L3.Price                     0.024305         0.017565            1.384           0.166\n",
      "L3.GDP_Growth                0.000009         0.000033            0.263           0.793\n",
      "L3.Inflation_Rate            0.000281         0.002273            0.124           0.902\n",
      "L3.Unemployment_Rate        -0.004637         0.049933           -0.093           0.926\n",
      "L4.Price                     0.040622         0.017538            2.316           0.021\n",
      "L4.GDP_Growth                0.000035         0.000032            1.080           0.280\n",
      "L4.Inflation_Rate           -0.001561         0.002264           -0.689           0.491\n",
      "L4.Unemployment_Rate         0.007766         0.049908            0.156           0.876\n",
      "L5.Price                    -0.020781         0.012217           -1.701           0.089\n",
      "L5.GDP_Growth                0.000000         0.000032            0.013           0.990\n",
      "L5.Inflation_Rate            0.000941         0.002257            0.417           0.677\n",
      "L5.Unemployment_Rate         0.006773         0.049870            0.136           0.892\n",
      "=======================================================================================\n",
      "\n",
      "Results for equation GDP_Growth\n",
      "=======================================================================================\n",
      "                          coefficient       std. error           t-stat            prob\n",
      "---------------------------------------------------------------------------------------\n",
      "const                    10332.290567       426.404424           24.231           0.000\n",
      "L1.Price                   -13.258980         4.999340           -2.652           0.008\n",
      "L1.GDP_Growth               -0.082545         0.013444           -6.140           0.000\n",
      "L1.Inflation_Rate            6.081642         0.930560            6.535           0.000\n",
      "L1.Unemployment_Rate       -23.780332        20.404356           -1.165           0.244\n",
      "L2.Price                    20.830912         7.173031            2.904           0.004\n",
      "L2.GDP_Growth                0.114699         0.013376            8.575           0.000\n",
      "L2.Inflation_Rate            0.254083         0.929854            0.273           0.785\n",
      "L2.Unemployment_Rate       -33.584726        20.415699           -1.645           0.100\n",
      "L3.Price                    -2.721626         7.186907           -0.379           0.705\n",
      "L3.GDP_Growth               -0.028764         0.013468           -2.136           0.033\n",
      "L3.Inflation_Rate            4.428754         0.930207            4.761           0.000\n",
      "L3.Unemployment_Rate       -28.546714        20.430498           -1.397           0.162\n",
      "L4.Price                    -8.183480         7.175667           -1.140           0.254\n",
      "L4.GDP_Growth                0.039679         0.013244            2.996           0.003\n",
      "L4.Inflation_Rate            2.429669         0.926406            2.623           0.009\n",
      "L4.Unemployment_Rate       -25.287385        20.419940           -1.238           0.216\n",
      "L5.Price                     3.935310         4.998777            0.787           0.431\n",
      "L5.GDP_Growth                0.056011         0.013190            4.246           0.000\n",
      "L5.Inflation_Rate            2.015539         0.923492            2.183           0.029\n",
      "L5.Unemployment_Rate       -26.292006        20.404723           -1.289           0.198\n",
      "=======================================================================================\n",
      "\n",
      "Results for equation Inflation_Rate\n",
      "=======================================================================================\n",
      "                          coefficient       std. error           t-stat            prob\n",
      "---------------------------------------------------------------------------------------\n",
      "const                       58.126332         6.143482            9.461           0.000\n",
      "L1.Price                    -0.049967         0.072029           -0.694           0.488\n",
      "L1.GDP_Growth               -0.000151         0.000194           -0.782           0.434\n",
      "L1.Inflation_Rate            0.152016         0.013407           11.338           0.000\n",
      "L1.Unemployment_Rate         0.080813         0.293979            0.275           0.783\n",
      "L2.Price                     0.047470         0.103346            0.459           0.646\n",
      "L2.GDP_Growth               -0.000156         0.000193           -0.812           0.417\n",
      "L2.Inflation_Rate            0.151918         0.013397           11.340           0.000\n",
      "L2.Unemployment_Rate         0.033741         0.294142            0.115           0.909\n",
      "L3.Price                     0.077678         0.103546            0.750           0.453\n",
      "L3.GDP_Growth               -0.000130         0.000194           -0.670           0.503\n",
      "L3.Inflation_Rate            0.150642         0.013402           11.240           0.000\n",
      "L3.Unemployment_Rate        -0.013502         0.294355           -0.046           0.963\n",
      "L4.Price                    -0.106204         0.103384           -1.027           0.304\n",
      "L4.GDP_Growth               -0.000151         0.000191           -0.794           0.427\n",
      "L4.Inflation_Rate            0.151254         0.013347           11.332           0.000\n",
      "L4.Unemployment_Rate        -0.050098         0.294203           -0.170           0.865\n",
      "L5.Price                     0.044912         0.072021            0.624           0.533\n",
      "L5.GDP_Growth               -0.000121         0.000190           -0.636           0.525\n",
      "L5.Inflation_Rate            0.151770         0.013305           11.407           0.000\n",
      "L5.Unemployment_Rate        -0.080797         0.293984           -0.275           0.783\n",
      "=======================================================================================\n",
      "\n",
      "Results for equation Unemployment_Rate\n",
      "=======================================================================================\n",
      "                          coefficient       std. error           t-stat            prob\n",
      "---------------------------------------------------------------------------------------\n",
      "const                        5.235828         0.256928           20.379           0.000\n",
      "L1.Price                    -0.003078         0.003012           -1.022           0.307\n",
      "L1.GDP_Growth               -0.000015         0.000008           -1.883           0.060\n",
      "L1.Inflation_Rate            0.000203         0.000561            0.362           0.718\n",
      "L1.Unemployment_Rate         0.054148         0.012295            4.404           0.000\n",
      "L2.Price                     0.005008         0.004322            1.159           0.247\n",
      "L2.GDP_Growth               -0.000016         0.000008           -1.923           0.054\n",
      "L2.Inflation_Rate            0.000212         0.000560            0.378           0.705\n",
      "L2.Unemployment_Rate         0.050957         0.012301            4.142           0.000\n",
      "L3.Price                     0.001932         0.004330            0.446           0.656\n",
      "L3.GDP_Growth               -0.000012         0.000008           -1.468           0.142\n",
      "L3.Inflation_Rate            0.000045         0.000560            0.081           0.935\n",
      "L3.Unemployment_Rate         0.047178         0.012310            3.832           0.000\n",
      "L4.Price                    -0.001906         0.004324           -0.441           0.659\n",
      "L4.GDP_Growth               -0.000014         0.000008           -1.801           0.072\n",
      "L4.Inflation_Rate            0.000078         0.000558            0.140           0.888\n",
      "L4.Unemployment_Rate         0.042415         0.012304            3.447           0.001\n",
      "L5.Price                    -0.001628         0.003012           -0.541           0.589\n",
      "L5.GDP_Growth               -0.000009         0.000008           -1.128           0.259\n",
      "L5.Inflation_Rate           -0.000112         0.000556           -0.201           0.841\n",
      "L5.Unemployment_Rate         0.038276         0.012295            3.113           0.002\n",
      "=======================================================================================\n",
      "\n",
      "Correlation matrix of residuals\n",
      "                        Price  GDP_Growth  Inflation_Rate  Unemployment_Rate\n",
      "Price                1.000000   -0.009980       -0.012569           0.018968\n",
      "GDP_Growth          -0.009980    1.000000        0.421727          -0.038639\n",
      "Inflation_Rate      -0.012569    0.421727        1.000000          -0.117421\n",
      "Unemployment_Rate    0.018968   -0.038639       -0.117421           1.000000\n",
      "\n",
      "\n",
      "\n",
      "VAR Forecast: [[7.46312881e+01 1.40626989e+04 2.01752170e+02 5.76341689e+00]\n",
      " [7.46092893e+01 1.40439796e+04 2.01783851e+02 5.76752541e+00]\n",
      " [7.46458180e+01 1.40364740e+04 2.01661966e+02 5.76329654e+00]\n",
      " [7.46385659e+01 1.40418351e+04 2.01773214e+02 5.76107230e+00]\n",
      " [7.46280519e+01 1.40447370e+04 2.01820091e+02 5.76178774e+00]\n",
      " [7.46200194e+01 1.40462789e+04 2.01871906e+02 5.76214791e+00]\n",
      " [7.46147288e+01 1.40451229e+04 2.01886486e+02 5.76215671e+00]\n",
      " [7.46084485e+01 1.40457073e+04 2.01903549e+02 5.76185096e+00]\n",
      " [7.46019799e+01 1.40466622e+04 2.01939287e+02 5.76170725e+00]\n",
      " [7.45956616e+01 1.40473932e+04 2.01963687e+02 5.76168996e+00]]\n"
     ]
    }
   ],
   "source": [
    "from statsmodels.tsa.api import VAR\n",
    "\n",
    "# Prepare the data for VAR (ensure no missing values and set Date as index)\n",
    "var_data = data[['Price', 'GDP_Growth', 'Inflation_Rate', 'Unemployment_Rate']].dropna()\n",
    "var_model = VAR(var_data)\n",
    "\n",
    "# Fit the model\n",
    "fitted_model = var_model.fit(maxlags=5)  # Choose an appropriate lag value (use criteria like AIC/BIC)\n",
    "print(fitted_model.summary())\n",
    "\n",
    "# Forecast future values\n",
    "forecast = fitted_model.forecast(var_data.values[-fitted_model.k_ar:], steps=10)\n",
    "print(\"VAR Forecast:\", forecast)\n"
   ]
  },
  {
   "cell_type": "code",
   "execution_count": 9,
   "metadata": {},
   "outputs": [
    {
     "name": "stderr",
     "output_type": "stream",
     "text": [
      "c:\\Users\\Robel\\.ebcli-virtual-env\\Lib\\site-packages\\statsmodels\\tsa\\base\\tsa_model.py:473: ValueWarning: A date index has been provided, but it has no associated frequency information and so will be ignored when e.g. forecasting.\n",
      "  self._init_dates(dates, freq)\n"
     ]
    },
    {
     "name": "stdout",
     "output_type": "stream",
     "text": [
      "                        Markov Switching Model Results                        \n",
      "==============================================================================\n",
      "Dep. Variable:                  Price   No. Observations:                 6724\n",
      "Model:               MarkovRegression   Log Likelihood              -28356.907\n",
      "Date:                Mon, 10 Mar 2025   AIC                          56725.815\n",
      "Time:                        19:37:49   BIC                          56766.695\n",
      "Sample:                             0   HQIC                         56739.930\n",
      "                               - 6724                                         \n",
      "Covariance Type:               approx                                         \n",
      "                             Regime 0 parameters                              \n",
      "==============================================================================\n",
      "                 coef    std err          z      P>|z|      [0.025      0.975]\n",
      "------------------------------------------------------------------------------\n",
      "const         33.9115      0.246    137.764      0.000      33.429      34.394\n",
      "sigma2       137.0006      4.005     34.209      0.000     129.151     144.850\n",
      "                             Regime 1 parameters                              \n",
      "==============================================================================\n",
      "                 coef    std err          z      P>|z|      [0.025      0.975]\n",
      "------------------------------------------------------------------------------\n",
      "const         83.8396      0.328    255.498      0.000      83.196      84.483\n",
      "sigma2       408.8680      9.154     44.667      0.000     390.927     426.809\n",
      "                         Regime transition parameters                         \n",
      "==============================================================================\n",
      "                 coef    std err          z      P>|z|      [0.025      0.975]\n",
      "------------------------------------------------------------------------------\n",
      "p[0->0]        0.9983      0.001   1281.827      0.000       0.997       1.000\n",
      "p[1->0]        0.0011      0.001      2.195      0.028       0.000       0.002\n",
      "==============================================================================\n",
      "\n",
      "Warnings:\n",
      "[1] Covariance matrix calculated using numerical (complex-step) differentiation.\n",
      "Regime Probabilities:                        0             1\n",
      "Date                                  \n",
      "1987-06-01  9.999873e-01  1.269020e-05\n",
      "1987-07-01  9.999999e-01  1.114918e-07\n",
      "1987-09-01  1.000000e+00  1.524386e-08\n",
      "1987-10-01  1.000000e+00  1.457349e-08\n",
      "1987-12-01  1.000000e+00  1.401283e-08\n",
      "...                  ...           ...\n",
      "2025-02-24  8.096250e-09  1.000000e+00\n",
      "2025-02-25  1.421531e-08  1.000000e+00\n",
      "2025-02-26  1.275658e-08  1.000000e+00\n",
      "2025-02-27  2.772473e-08  1.000000e+00\n",
      "2025-02-28  4.988628e-06  9.999950e-01\n",
      "\n",
      "[6724 rows x 2 columns]\n"
     ]
    }
   ],
   "source": [
    "from statsmodels.tsa.regime_switching.markov_regression import MarkovRegression\n",
    "\n",
    "# Fit a Markov Switching Model with 2 regimes (low and high volatility)\n",
    "ms_model = MarkovRegression(data['Price'], k_regimes=2, trend='c', switching_variance=True)\n",
    "ms_results = ms_model.fit()\n",
    "\n",
    "print(ms_results.summary())\n",
    "\n",
    "# Regime probabilities\n",
    "regime_probs = ms_results.smoothed_marginal_probabilities\n",
    "print(\"Regime Probabilities:\", regime_probs)\n"
   ]
  },
  {
   "cell_type": "code",
   "execution_count": 11,
   "metadata": {},
   "outputs": [
    {
     "name": "stdout",
     "output_type": "stream",
     "text": [
      "VAR model saved successfully as 'VAR_model.pkl'.\n"
     ]
    }
   ],
   "source": [
    "import joblib\n",
    "\n",
    "# Save the fitted VAR model\n",
    "joblib.dump(fitted_model, 'VAR_model.pkl')\n",
    "print(\"VAR model saved successfully as 'VAR_model.pkl'.\")\n"
   ]
  },
  {
   "cell_type": "code",
   "execution_count": 12,
   "metadata": {},
   "outputs": [
    {
     "name": "stdout",
     "output_type": "stream",
     "text": [
      "VAR model loaded successfully.\n",
      "VAR Forecast: [[7.46312881e+01 1.40626989e+04 2.01752170e+02 5.76341689e+00]\n",
      " [7.46092893e+01 1.40439796e+04 2.01783851e+02 5.76752541e+00]\n",
      " [7.46458180e+01 1.40364740e+04 2.01661966e+02 5.76329654e+00]\n",
      " [7.46385659e+01 1.40418351e+04 2.01773214e+02 5.76107230e+00]\n",
      " [7.46280519e+01 1.40447370e+04 2.01820091e+02 5.76178774e+00]\n",
      " [7.46200194e+01 1.40462789e+04 2.01871906e+02 5.76214791e+00]\n",
      " [7.46147288e+01 1.40451229e+04 2.01886486e+02 5.76215671e+00]\n",
      " [7.46084485e+01 1.40457073e+04 2.01903549e+02 5.76185096e+00]\n",
      " [7.46019799e+01 1.40466622e+04 2.01939287e+02 5.76170725e+00]\n",
      " [7.45956616e+01 1.40473932e+04 2.01963687e+02 5.76168996e+00]]\n"
     ]
    }
   ],
   "source": [
    "# Load the saved VAR model\n",
    "loaded_var_model = joblib.load('VAR_model.pkl')\n",
    "print(\"VAR model loaded successfully.\")\n",
    "\n",
    "# Use the loaded model for forecasting\n",
    "forecast_var = loaded_var_model.forecast(var_data.values[-loaded_var_model.k_ar:], steps=10)\n",
    "print(\"VAR Forecast:\", forecast_var)\n"
   ]
  },
  {
   "cell_type": "code",
   "execution_count": 13,
   "metadata": {},
   "outputs": [
    {
     "name": "stdout",
     "output_type": "stream",
     "text": [
      "ARIMA model saved successfully as 'ARIMA_model.pkl'.\n"
     ]
    }
   ],
   "source": [
    "import joblib\n",
    "\n",
    "# Save the ARIMA model\n",
    "joblib.dump(arima_model_fit, 'ARIMA_model.pkl')\n",
    "print(\"ARIMA model saved successfully as 'ARIMA_model.pkl'.\")\n"
   ]
  },
  {
   "cell_type": "code",
   "execution_count": 14,
   "metadata": {},
   "outputs": [
    {
     "name": "stdout",
     "output_type": "stream",
     "text": [
      "ARIMA model loaded successfully.\n",
      "ARIMA Forecast: 6724    74.638145\n",
      "6725    74.618738\n",
      "6726    74.662504\n",
      "6727    74.664369\n",
      "6728    74.659828\n",
      "6729    74.658058\n",
      "6730    74.659085\n",
      "6731    74.659404\n",
      "6732    74.659310\n",
      "6733    74.659225\n",
      "Name: predicted_mean, dtype: float64\n"
     ]
    },
    {
     "name": "stderr",
     "output_type": "stream",
     "text": [
      "c:\\Users\\Robel\\.ebcli-virtual-env\\Lib\\site-packages\\statsmodels\\tsa\\base\\tsa_model.py:837: ValueWarning: No supported index is available. Prediction results will be given with an integer index beginning at `start`.\n",
      "  return get_prediction_index(\n",
      "c:\\Users\\Robel\\.ebcli-virtual-env\\Lib\\site-packages\\statsmodels\\tsa\\base\\tsa_model.py:837: FutureWarning: No supported index is available. In the next version, calling this method in a model without a supported index will result in an exception.\n",
      "  return get_prediction_index(\n"
     ]
    }
   ],
   "source": [
    "# Load the saved ARIMA model\n",
    "loaded_arima_model = joblib.load('ARIMA_model.pkl')\n",
    "print(\"ARIMA model loaded successfully.\")\n",
    "\n",
    "# Use the loaded model for forecasting\n",
    "forecast_arima = loaded_arima_model.forecast(steps=10)\n",
    "print(\"ARIMA Forecast:\", forecast_arima)\n"
   ]
  }
 ],
 "metadata": {
  "kernelspec": {
   "display_name": ".ebcli-virtual-env",
   "language": "python",
   "name": "python3"
  },
  "language_info": {
   "codemirror_mode": {
    "name": "ipython",
    "version": 3
   },
   "file_extension": ".py",
   "mimetype": "text/x-python",
   "name": "python",
   "nbconvert_exporter": "python",
   "pygments_lexer": "ipython3",
   "version": "3.11.9"
  }
 },
 "nbformat": 4,
 "nbformat_minor": 2
}
